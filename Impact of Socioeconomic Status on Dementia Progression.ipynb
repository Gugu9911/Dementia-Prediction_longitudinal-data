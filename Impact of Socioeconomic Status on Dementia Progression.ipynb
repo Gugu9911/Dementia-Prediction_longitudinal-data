{
 "cells": [
  {
   "cell_type": "code",
   "execution_count": 5,
   "id": "9e6cfeea",
   "metadata": {},
   "outputs": [
    {
     "data": {
      "text/html": [
       "<div>\n",
       "<style scoped>\n",
       "    .dataframe tbody tr th:only-of-type {\n",
       "        vertical-align: middle;\n",
       "    }\n",
       "\n",
       "    .dataframe tbody tr th {\n",
       "        vertical-align: top;\n",
       "    }\n",
       "\n",
       "    .dataframe thead th {\n",
       "        text-align: right;\n",
       "    }\n",
       "</style>\n",
       "<table border=\"1\" class=\"dataframe\">\n",
       "  <thead>\n",
       "    <tr style=\"text-align: right;\">\n",
       "      <th></th>\n",
       "      <th>Subject ID</th>\n",
       "      <th>MRI ID</th>\n",
       "      <th>Group</th>\n",
       "      <th>Visit</th>\n",
       "      <th>MR Delay</th>\n",
       "      <th>M/F</th>\n",
       "      <th>Hand</th>\n",
       "      <th>Age</th>\n",
       "      <th>EDUC</th>\n",
       "      <th>SES</th>\n",
       "      <th>MMSE</th>\n",
       "      <th>CDR</th>\n",
       "      <th>eTIV</th>\n",
       "      <th>nWBV</th>\n",
       "      <th>ASF</th>\n",
       "    </tr>\n",
       "  </thead>\n",
       "  <tbody>\n",
       "    <tr>\n",
       "      <th>0</th>\n",
       "      <td>OAS2_0001</td>\n",
       "      <td>OAS2_0001_MR1</td>\n",
       "      <td>Nondemented</td>\n",
       "      <td>1</td>\n",
       "      <td>0</td>\n",
       "      <td>M</td>\n",
       "      <td>R</td>\n",
       "      <td>87</td>\n",
       "      <td>14</td>\n",
       "      <td>2.0</td>\n",
       "      <td>27.0</td>\n",
       "      <td>0.0</td>\n",
       "      <td>1987</td>\n",
       "      <td>0.696</td>\n",
       "      <td>0.883</td>\n",
       "    </tr>\n",
       "    <tr>\n",
       "      <th>1</th>\n",
       "      <td>OAS2_0001</td>\n",
       "      <td>OAS2_0001_MR2</td>\n",
       "      <td>Nondemented</td>\n",
       "      <td>2</td>\n",
       "      <td>457</td>\n",
       "      <td>M</td>\n",
       "      <td>R</td>\n",
       "      <td>88</td>\n",
       "      <td>14</td>\n",
       "      <td>2.0</td>\n",
       "      <td>30.0</td>\n",
       "      <td>0.0</td>\n",
       "      <td>2004</td>\n",
       "      <td>0.681</td>\n",
       "      <td>0.876</td>\n",
       "    </tr>\n",
       "    <tr>\n",
       "      <th>2</th>\n",
       "      <td>OAS2_0002</td>\n",
       "      <td>OAS2_0002_MR1</td>\n",
       "      <td>Demented</td>\n",
       "      <td>1</td>\n",
       "      <td>0</td>\n",
       "      <td>M</td>\n",
       "      <td>R</td>\n",
       "      <td>75</td>\n",
       "      <td>12</td>\n",
       "      <td>NaN</td>\n",
       "      <td>23.0</td>\n",
       "      <td>0.5</td>\n",
       "      <td>1678</td>\n",
       "      <td>0.736</td>\n",
       "      <td>1.046</td>\n",
       "    </tr>\n",
       "    <tr>\n",
       "      <th>3</th>\n",
       "      <td>OAS2_0002</td>\n",
       "      <td>OAS2_0002_MR2</td>\n",
       "      <td>Demented</td>\n",
       "      <td>2</td>\n",
       "      <td>560</td>\n",
       "      <td>M</td>\n",
       "      <td>R</td>\n",
       "      <td>76</td>\n",
       "      <td>12</td>\n",
       "      <td>NaN</td>\n",
       "      <td>28.0</td>\n",
       "      <td>0.5</td>\n",
       "      <td>1738</td>\n",
       "      <td>0.713</td>\n",
       "      <td>1.010</td>\n",
       "    </tr>\n",
       "    <tr>\n",
       "      <th>4</th>\n",
       "      <td>OAS2_0002</td>\n",
       "      <td>OAS2_0002_MR3</td>\n",
       "      <td>Demented</td>\n",
       "      <td>3</td>\n",
       "      <td>1895</td>\n",
       "      <td>M</td>\n",
       "      <td>R</td>\n",
       "      <td>80</td>\n",
       "      <td>12</td>\n",
       "      <td>NaN</td>\n",
       "      <td>22.0</td>\n",
       "      <td>0.5</td>\n",
       "      <td>1698</td>\n",
       "      <td>0.701</td>\n",
       "      <td>1.034</td>\n",
       "    </tr>\n",
       "  </tbody>\n",
       "</table>\n",
       "</div>"
      ],
      "text/plain": [
       "  Subject ID         MRI ID        Group  Visit  MR Delay M/F Hand  Age  EDUC  \\\n",
       "0  OAS2_0001  OAS2_0001_MR1  Nondemented      1         0   M    R   87    14   \n",
       "1  OAS2_0001  OAS2_0001_MR2  Nondemented      2       457   M    R   88    14   \n",
       "2  OAS2_0002  OAS2_0002_MR1     Demented      1         0   M    R   75    12   \n",
       "3  OAS2_0002  OAS2_0002_MR2     Demented      2       560   M    R   76    12   \n",
       "4  OAS2_0002  OAS2_0002_MR3     Demented      3      1895   M    R   80    12   \n",
       "\n",
       "   SES  MMSE  CDR  eTIV   nWBV    ASF  \n",
       "0  2.0  27.0  0.0  1987  0.696  0.883  \n",
       "1  2.0  30.0  0.0  2004  0.681  0.876  \n",
       "2  NaN  23.0  0.5  1678  0.736  1.046  \n",
       "3  NaN  28.0  0.5  1738  0.713  1.010  \n",
       "4  NaN  22.0  0.5  1698  0.701  1.034  "
      ]
     },
     "execution_count": 5,
     "metadata": {},
     "output_type": "execute_result"
    }
   ],
   "source": [
    "import pandas as pd\n",
    "\n",
    "# Load the dataset\n",
    "file_path = 'dementia_dataset.csv'\n",
    "dementia_data = pd.read_csv(file_path)\n",
    "\n",
    "# Display the first few rows of the dataset for inspection\n",
    "dementia_data.head()"
   ]
  },
  {
   "cell_type": "code",
   "execution_count": 6,
   "id": "4e37ba46",
   "metadata": {},
   "outputs": [
    {
     "data": {
      "text/plain": [
       "SES     19\n",
       "MMSE     2\n",
       "nWBV     0\n",
       "dtype: int64"
      ]
     },
     "execution_count": 6,
     "metadata": {},
     "output_type": "execute_result"
    }
   ],
   "source": [
    "# Data Preparation Steps\n",
    "\n",
    "# 1. Handling Missing Data\n",
    "# Checking for missing values in SES, MMSE, and nWBV\n",
    "missing_values = dementia_data[['SES', 'MMSE', 'nWBV']].isnull().sum()\n",
    "missing_values\n"
   ]
  },
  {
   "cell_type": "code",
   "execution_count": 7,
   "id": "46703d90",
   "metadata": {},
   "outputs": [
    {
     "data": {
      "text/plain": [
       "dtype('float64')"
      ]
     },
     "execution_count": 7,
     "metadata": {},
     "output_type": "execute_result"
    }
   ],
   "source": [
    "# 2. Data Cleaning\n",
    "# Checking the data types and unique values in SES\n",
    "ses_types = dementia_data['SES'].dtype\n",
    "ses_types\n"
   ]
  },
  {
   "cell_type": "code",
   "execution_count": 8,
   "id": "31817ea0",
   "metadata": {},
   "outputs": [
    {
     "data": {
      "text/plain": [
       "array([ 2., nan,  3.,  4.,  1.,  5.])"
      ]
     },
     "execution_count": 8,
     "metadata": {},
     "output_type": "execute_result"
    }
   ],
   "source": [
    "unique_ses = dementia_data['SES'].unique()\n",
    "unique_ses"
   ]
  },
  {
   "cell_type": "code",
   "execution_count": 11,
   "id": "207e36cc",
   "metadata": {},
   "outputs": [
    {
     "data": {
      "text/plain": [
       "EDUC\n",
       "6     4.0\n",
       "8     5.0\n",
       "11    4.0\n",
       "12    3.0\n",
       "13    2.0\n",
       "14    3.0\n",
       "15    2.0\n",
       "16    2.0\n",
       "17    1.0\n",
       "18    2.0\n",
       "20    1.0\n",
       "23    1.0\n",
       "Name: SES, dtype: float64"
      ]
     },
     "execution_count": 11,
     "metadata": {},
     "output_type": "execute_result"
    }
   ],
   "source": [
    "# Imputation Strategy: Using median SES values for groups defined by similar education levels (EDUC)\n",
    "# First, calculate the median SES for each EDUC level\n",
    "median_ses_per_educ = dementia_data.groupby('EDUC')['SES'].median()\n",
    "median_ses_per_educ\n"
   ]
  },
  {
   "cell_type": "code",
   "execution_count": 12,
   "id": "f64ccd4a",
   "metadata": {},
   "outputs": [
    {
     "data": {
      "text/plain": [
       "0"
      ]
     },
     "execution_count": 12,
     "metadata": {},
     "output_type": "execute_result"
    }
   ],
   "source": [
    "\n",
    "# Function to impute SES based on EDUC\n",
    "def impute_ses(row):\n",
    "    if pd.isna(row['SES']) and not pd.isna(row['EDUC']):\n",
    "        return median_ses_per_educ[row['EDUC']]\n",
    "    return row['SES']\n",
    "\n",
    "# Applying the imputation function\n",
    "dementia_data['SES'] = dementia_data.apply(impute_ses, axis=1)\n",
    "\n",
    "# Checking if there are any remaining missing SES values\n",
    "remaining_missing_ses = dementia_data['SES'].isnull().sum()\n",
    "remaining_missing_ses\n"
   ]
  },
  {
   "cell_type": "code",
   "execution_count": 14,
   "id": "6ceb8f59",
   "metadata": {},
   "outputs": [
    {
     "data": {
      "text/plain": [
       "(  Subject ID  SES  Visit  MMSE\n",
       " 0  OAS2_0001  2.0      1  27.0\n",
       " 1  OAS2_0001  2.0      2  30.0\n",
       " 2  OAS2_0002  3.0      1  23.0\n",
       " 3  OAS2_0002  3.0      2  28.0\n",
       " 4  OAS2_0002  3.0      3  22.0,\n",
       "   Subject ID  SES  Visit   nWBV\n",
       " 0  OAS2_0001  2.0      1  0.696\n",
       " 1  OAS2_0001  2.0      2  0.681\n",
       " 2  OAS2_0002  3.0      1  0.736\n",
       " 3  OAS2_0002  3.0      2  0.713\n",
       " 4  OAS2_0002  3.0      3  0.701)"
      ]
     },
     "execution_count": 14,
     "metadata": {},
     "output_type": "execute_result"
    }
   ],
   "source": [
    "# Structuring the Data for Analysis\n",
    "\n",
    "# Preparing data for MMSE scores analysis by SES\n",
    "mmse_ses_data = dementia_data[['Subject ID', 'SES', 'Visit', 'MMSE']].copy()\n",
    "mmse_ses_data.dropna(subset=['MMSE'], inplace=True)  # Dropping rows where MMSE is missing\n",
    "\n",
    "# Preparing data for nWBV analysis by SES\n",
    "nwbv_ses_data = dementia_data[['Subject ID', 'SES', 'Visit', 'nWBV']].copy()\n",
    "\n",
    "# Data is now structured to compare MMSE and nWBV across different SES levels\n",
    "# Displaying the first few rows of the prepared data for MMSE and nWBV\n",
    "mmse_ses_data.head(), nwbv_ses_data.head()\n"
   ]
  },
  {
   "cell_type": "code",
   "execution_count": 15,
   "id": "d4b959fd",
   "metadata": {},
   "outputs": [
    {
     "data": {
      "text/html": [
       "<table class=\"simpletable\">\n",
       "<tr>\n",
       "       <td>Model:</td>       <td>MixedLM</td> <td>Dependent Variable:</td>   <td>MMSE</td>   \n",
       "</tr>\n",
       "<tr>\n",
       "  <td>No. Observations:</td>   <td>371</td>         <td>Method:</td>         <td>REML</td>   \n",
       "</tr>\n",
       "<tr>\n",
       "     <td>No. Groups:</td>      <td>150</td>         <td>Scale:</td>         <td>2.1844</td>  \n",
       "</tr>\n",
       "<tr>\n",
       "  <td>Min. group size:</td>     <td>1</td>      <td>Log-Likelihood:</td>   <td>-861.4456</td>\n",
       "</tr>\n",
       "<tr>\n",
       "  <td>Max. group size:</td>     <td>5</td>        <td>Converged:</td>         <td>Yes</td>   \n",
       "</tr>\n",
       "<tr>\n",
       "  <td>Mean group size:</td>    <td>2.5</td>            <td></td>               <td></td>     \n",
       "</tr>\n",
       "</table>\n",
       "<table class=\"simpletable\">\n",
       "<tr>\n",
       "          <td></td>           <th>Coef.</th> <th>Std.Err.</th>    <th>z</th>   <th>P>|z|</th> <th>[0.025</th> <th>0.975]</th>\n",
       "</tr>\n",
       "<tr>\n",
       "  <th>Intercept</th>         <td>29.188</td>   <td>0.573</td>  <td>50.905</td> <td>0.000</td> <td>28.064</td> <td>30.312</td>\n",
       "</tr>\n",
       "<tr>\n",
       "  <th>Visit</th>             <td>-0.243</td>   <td>0.322</td>  <td>-0.756</td> <td>0.450</td> <td>-0.873</td>  <td>0.387</td>\n",
       "</tr>\n",
       "<tr>\n",
       "  <th>SES</th>               <td>-0.406</td>   <td>0.213</td>  <td>-1.906</td> <td>0.057</td> <td>-0.823</td>  <td>0.011</td>\n",
       "</tr>\n",
       "<tr>\n",
       "  <th>Visit:SES</th>         <td>-0.137</td>   <td>0.121</td>  <td>-1.135</td> <td>0.256</td> <td>-0.373</td>  <td>0.099</td>\n",
       "</tr>\n",
       "<tr>\n",
       "  <th>Group Var</th>          <td>2.244</td>   <td>0.993</td>     <td></td>      <td></td>       <td></td>       <td></td>   \n",
       "</tr>\n",
       "<tr>\n",
       "  <th>Group x Visit Cov</th>  <td>1.422</td>   <td>0.253</td>     <td></td>      <td></td>       <td></td>       <td></td>   \n",
       "</tr>\n",
       "<tr>\n",
       "  <th>Visit Var</th>          <td>0.901</td>   <td>0.194</td>     <td></td>      <td></td>       <td></td>       <td></td>   \n",
       "</tr>\n",
       "</table><br/>\n"
      ],
      "text/latex": [
       "\\begin{table}\n",
       "\\caption{Mixed Linear Model Regression Results}\n",
       "\\label{}\n",
       "\\begin{center}\n",
       "\\begin{tabular}{llll}\n",
       "\\hline\n",
       "Model:            & MixedLM & Dependent Variable: & MMSE       \\\\\n",
       "No. Observations: & 371     & Method:             & REML       \\\\\n",
       "No. Groups:       & 150     & Scale:              & 2.1844     \\\\\n",
       "Min. group size:  & 1       & Log-Likelihood:     & -861.4456  \\\\\n",
       "Max. group size:  & 5       & Converged:          & Yes        \\\\\n",
       "Mean group size:  & 2.5     &                     &            \\\\\n",
       "\\hline\n",
       "\\end{tabular}\n",
       "\\end{center}\n",
       "\n",
       "\\begin{center}\n",
       "\\begin{tabular}{lrrrrrr}\n",
       "\\hline\n",
       "                  &  Coef. & Std.Err. &      z & P$> |$z$|$ & [0.025 & 0.975]  \\\\\n",
       "\\hline\n",
       "Intercept         & 29.188 &    0.573 & 50.905 &       0.000 & 28.064 & 30.312  \\\\\n",
       "Visit             & -0.243 &    0.322 & -0.756 &       0.450 & -0.873 &  0.387  \\\\\n",
       "SES               & -0.406 &    0.213 & -1.906 &       0.057 & -0.823 &  0.011  \\\\\n",
       "Visit:SES         & -0.137 &    0.121 & -1.135 &       0.256 & -0.373 &  0.099  \\\\\n",
       "Group Var         &  2.244 &    0.993 &        &             &        &         \\\\\n",
       "Group x Visit Cov &  1.422 &    0.253 &        &             &        &         \\\\\n",
       "Visit Var         &  0.901 &    0.194 &        &             &        &         \\\\\n",
       "\\hline\n",
       "\\end{tabular}\n",
       "\\end{center}\n",
       "\\end{table}\n",
       "\\bigskip\n"
      ],
      "text/plain": [
       "<class 'statsmodels.iolib.summary2.Summary'>\n",
       "\"\"\"\n",
       "           Mixed Linear Model Regression Results\n",
       "============================================================\n",
       "Model:               MixedLM  Dependent Variable:  MMSE     \n",
       "No. Observations:    371      Method:              REML     \n",
       "No. Groups:          150      Scale:               2.1844   \n",
       "Min. group size:     1        Log-Likelihood:      -861.4456\n",
       "Max. group size:     5        Converged:           Yes      \n",
       "Mean group size:     2.5                                    \n",
       "------------------------------------------------------------\n",
       "                  Coef.  Std.Err.   z    P>|z| [0.025 0.975]\n",
       "------------------------------------------------------------\n",
       "Intercept         29.188    0.573 50.905 0.000 28.064 30.312\n",
       "Visit             -0.243    0.322 -0.756 0.450 -0.873  0.387\n",
       "SES               -0.406    0.213 -1.906 0.057 -0.823  0.011\n",
       "Visit:SES         -0.137    0.121 -1.135 0.256 -0.373  0.099\n",
       "Group Var          2.244    0.993                           \n",
       "Group x Visit Cov  1.422    0.253                           \n",
       "Visit Var          0.901    0.194                           \n",
       "============================================================\n",
       "\n",
       "\"\"\""
      ]
     },
     "execution_count": 15,
     "metadata": {},
     "output_type": "execute_result"
    }
   ],
   "source": [
    "import statsmodels.api as sm\n",
    "import statsmodels.formula.api as smf\n",
    "\n",
    "# Linear Mixed-Effects Model for MMSE Scores\n",
    "# Model: MMSE ~ Visit + SES + Visit:SES (interaction term), random intercepts for subjects\n",
    "\n",
    "# Fitting the model\n",
    "lme_mmse_model = smf.mixedlm(\"MMSE ~ Visit * SES\", mmse_ses_data, groups=mmse_ses_data[\"Subject ID\"], \n",
    "                             re_formula=\"~Visit\").fit()\n",
    "\n",
    "# Displaying the model summary\n",
    "lme_mmse_model.summary()\n"
   ]
  },
  {
   "cell_type": "raw",
   "id": "83c442ff",
   "metadata": {},
   "source": [
    "1. Intercept (Baseline MMSE): The average baseline MMSE score is approximately 29.19.\n",
    "\n",
    "2. Visit: The coefficient for Visit is -0.243, but it is not statistically significant (p > 0.05), suggesting that the change in MMSE score per visit is not significant.\n",
    "\n",
    "3. SES: The coefficient for SES is -0.406, which is marginally significant (p = 0.057). This implies that higher SES might be associated with higher MMSE scores, but this is not definitively conclusive.\n",
    "\n",
    "4. Visit:SES Interaction: The interaction term has a coefficient of -0.137 and is not statistically significant (p > 0.05), indicating that the rate of change in MMSE scores over visits does not differ significantly across SES levels."
   ]
  },
  {
   "cell_type": "code",
   "execution_count": 17,
   "id": "74d755b8",
   "metadata": {},
   "outputs": [
    {
     "data": {
      "text/plain": [
       "(Subject ID    0\n",
       " SES           0\n",
       " Visit         0\n",
       " nWBV          0\n",
       " dtype: int64,\n",
       " Subject ID     object\n",
       " SES           float64\n",
       " Visit           int64\n",
       " nWBV          float64\n",
       " dtype: object)"
      ]
     },
     "execution_count": 17,
     "metadata": {},
     "output_type": "execute_result"
    }
   ],
   "source": [
    "# Re-examining the nWBV dataset for inconsistencies or missing data\n",
    "nwbv_ses_data_check = dementia_data[['Subject ID', 'SES', 'Visit', 'nWBV']].copy()\n",
    "\n",
    "# Checking for missing values\n",
    "nwbv_missing_values = nwbv_ses_data_check.isnull().sum()\n",
    "\n",
    "# Checking the data types\n",
    "nwbv_data_types = nwbv_ses_data_check.dtypes\n",
    "\n",
    "nwbv_missing_values, nwbv_data_types\n",
    "\n"
   ]
  },
  {
   "cell_type": "code",
   "execution_count": null,
   "id": "e32dc210",
   "metadata": {},
   "outputs": [],
   "source": []
  }
 ],
 "metadata": {
  "kernelspec": {
   "display_name": "Python 3 (ipykernel)",
   "language": "python",
   "name": "python3"
  },
  "language_info": {
   "codemirror_mode": {
    "name": "ipython",
    "version": 3
   },
   "file_extension": ".py",
   "mimetype": "text/x-python",
   "name": "python",
   "nbconvert_exporter": "python",
   "pygments_lexer": "ipython3",
   "version": "3.8.13"
  }
 },
 "nbformat": 4,
 "nbformat_minor": 5
}
